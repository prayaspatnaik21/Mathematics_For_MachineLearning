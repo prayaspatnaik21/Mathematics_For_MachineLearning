{
  "nbformat": 4,
  "nbformat_minor": 0,
  "metadata": {
    "colab": {
      "name": "PCA.ipynb",
      "provenance": []
    },
    "kernelspec": {
      "name": "python3",
      "display_name": "Python 3"
    },
    "language_info": {
      "name": "python"
    }
  },
  "cells": [
    {
      "cell_type": "code",
      "execution_count": 22,
      "metadata": {
        "id": "gOV6Uow8E8Be"
      },
      "outputs": [],
      "source": [
        "import numpy as np\n",
        "import pandas as pd\n",
        "import matplotlib.pyplot as plt\n",
        "from sklearn.decomposition import PCA"
      ]
    },
    {
      "cell_type": "markdown",
      "source": [
        "# Creating Synthetic Data"
      ],
      "metadata": {
        "id": "4XL6JdhFFSRz"
      }
    },
    {
      "cell_type": "code",
      "source": [
        "X= np.array([[1,3,5,7,9,13,20,20,21,24,26],[5,7,11,14,15,17,18,19,21,22,26]])\n",
        "X=X.T"
      ],
      "metadata": {
        "id": "8FHy_WMvFQ5i"
      },
      "execution_count": 5,
      "outputs": []
    },
    {
      "cell_type": "code",
      "source": [
        "X"
      ],
      "metadata": {
        "colab": {
          "base_uri": "https://localhost:8080/"
        },
        "id": "oqD5UO-mFo0b",
        "outputId": "3fe2e243-a2a2-42a2-8da5-0dc6080ea8b3"
      },
      "execution_count": 6,
      "outputs": [
        {
          "output_type": "execute_result",
          "data": {
            "text/plain": [
              "array([[ 1,  5],\n",
              "       [ 3,  7],\n",
              "       [ 5, 11],\n",
              "       [ 7, 14],\n",
              "       [ 9, 15],\n",
              "       [13, 17],\n",
              "       [20, 18],\n",
              "       [20, 19],\n",
              "       [21, 21],\n",
              "       [24, 22],\n",
              "       [26, 26]])"
            ]
          },
          "metadata": {},
          "execution_count": 6
        }
      ]
    },
    {
      "cell_type": "code",
      "source": [
        "plt.scatter(X[:,0],X[:,1])"
      ],
      "metadata": {
        "colab": {
          "base_uri": "https://localhost:8080/",
          "height": 282
        },
        "id": "EDY2XknAFqCE",
        "outputId": "8516365f-79e7-4e16-e4bd-1d161aa4f03b"
      },
      "execution_count": 8,
      "outputs": [
        {
          "output_type": "execute_result",
          "data": {
            "text/plain": [
              "<matplotlib.collections.PathCollection at 0x7f3ba7b0b610>"
            ]
          },
          "metadata": {},
          "execution_count": 8
        },
        {
          "output_type": "display_data",
          "data": {
            "text/plain": [
              "<Figure size 432x288 with 1 Axes>"
            ],
            "image/png": "[encoded data removed]"
          },
          "metadata": {
            "needs_background": "light"
          }
        }
      ]
    },
    {
      "cell_type": "code",
      "source": [
        "# Normalization\n",
        "X_mean = X - np.mean(X,axis=0)\n",
        "print(X_mean)"
      ],
      "metadata": {
        "colab": {
          "base_uri": "https://localhost:8080/"
        },
        "id": "JfgpyoxzGKhC",
        "outputId": "d656b32d-60a9-4338-bf93-b5ca76a48499"
      },
      "execution_count": 9,
      "outputs": [
        {
          "output_type": "stream",
          "name": "stdout",
          "text": [
            "[[-12.54545455 -10.90909091]\n",
            " [-10.54545455  -8.90909091]\n",
            " [ -8.54545455  -4.90909091]\n",
            " [ -6.54545455  -1.90909091]\n",
            " [ -4.54545455  -0.90909091]\n",
            " [ -0.54545455   1.09090909]\n",
            " [  6.45454545   2.09090909]\n",
            " [  6.45454545   3.09090909]\n",
            " [  7.45454545   5.09090909]\n",
            " [ 10.45454545   6.09090909]\n",
            " [ 12.45454545  10.09090909]]\n"
          ]
        }
      ]
    },
    {
      "cell_type": "code",
      "source": [
        "plt.scatter(X_mean[:,0] , X_mean[:,1])\n",
        "plt.scatter(X[:,0],X[:,1])"
      ],
      "metadata": {
        "colab": {
          "base_uri": "https://localhost:8080/",
          "height": 282
        },
        "id": "l0Euw6aZGWCI",
        "outputId": "15cb2f02-319a-4b04-ba4a-b83f3afd386f"
      },
      "execution_count": 11,
      "outputs": [
        {
          "output_type": "execute_result",
          "data": {
            "text/plain": [
              "<matplotlib.collections.PathCollection at 0x7f3ba6b80e90>"
            ]
          },
          "metadata": {},
          "execution_count": 11
        },
        {
          "output_type": "display_data",
          "data": {
            "text/plain": [
              "<Figure size 432x288 with 1 Axes>"
            ],
            "image/png": "[encoded data removed]"
          },
          "metadata": {
            "needs_background": "light"
          }
        }
      ]
    },
    {
      "cell_type": "code",
      "source": [
        "C = np.cov(X_mean,rowvar=False)\n",
        "print(C)"
      ],
      "metadata": {
        "colab": {
          "base_uri": "https://localhost:8080/"
        },
        "id": "yfq2tagTGcVX",
        "outputId": "58cb37c3-a158-4ccb-f93d-4818704dd848"
      },
      "execution_count": 13,
      "outputs": [
        {
          "output_type": "stream",
          "name": "stdout",
          "text": [
            "[[80.87272727 54.95454545]\n",
            " [54.95454545 40.69090909]]\n"
          ]
        }
      ]
    },
    {
      "cell_type": "code",
      "source": [
        "eval , evec = np.linalg.eig(C)"
      ],
      "metadata": {
        "id": "xu1DhlYIGwId"
      },
      "execution_count": 15,
      "outputs": []
    },
    {
      "cell_type": "code",
      "source": [
        "print(eval)\n",
        "print(evec)"
      ],
      "metadata": {
        "colab": {
          "base_uri": "https://localhost:8080/"
        },
        "id": "1kd9CILLG2W8",
        "outputId": "297b2f8c-3f35-4149-b8b0-d2c19b983939"
      },
      "execution_count": 16,
      "outputs": [
        {
          "output_type": "stream",
          "name": "stdout",
          "text": [
            "[119.29375452   2.26988184]\n",
            "[[ 0.81956216 -0.57299028]\n",
            " [ 0.57299028  0.81956216]]\n"
          ]
        }
      ]
    },
    {
      "cell_type": "code",
      "source": [
        "sorted_index = np.argsort(eval)[::-1]\n",
        "sorted_eval = eval[sorted_index]\n",
        "\n",
        "sorted_evec = evec[:,sorted_index]"
      ],
      "metadata": {
        "id": "h2qjOXvDHDIs"
      },
      "execution_count": 17,
      "outputs": []
    },
    {
      "cell_type": "code",
      "source": [
        "n = 1\n",
        "evec_subset  = sorted_evec[:,0:n]"
      ],
      "metadata": {
        "id": "gFVUeR9rHY4P"
      },
      "execution_count": 18,
      "outputs": []
    },
    {
      "cell_type": "code",
      "source": [
        "evec_subset"
      ],
      "metadata": {
        "colab": {
          "base_uri": "https://localhost:8080/"
        },
        "id": "gNQc0B7AHlgk",
        "outputId": "20880dd1-f86a-43a1-a638-0d6f2d704292"
      },
      "execution_count": 19,
      "outputs": [
        {
          "output_type": "execute_result",
          "data": {
            "text/plain": [
              "array([[0.81956216],\n",
              "       [0.57299028]])"
            ]
          },
          "metadata": {},
          "execution_count": 19
        }
      ]
    },
    {
      "cell_type": "code",
      "source": [
        "X_reduced = np.dot(evec_subset.transpose(),X_mean.transpose()).transpose()"
      ],
      "metadata": {
        "id": "Qx4D-axkHmgV"
      },
      "execution_count": 20,
      "outputs": []
    },
    {
      "cell_type": "code",
      "source": [
        "X_reduced"
      ],
      "metadata": {
        "colab": {
          "base_uri": "https://localhost:8080/"
        },
        "id": "9sx-8nu2ItkQ",
        "outputId": "f525c34e-44c1-41c7-c911-2dd58cdd48d6"
      },
      "execution_count": 21,
      "outputs": [
        {
          "output_type": "execute_result",
          "data": {
            "text/plain": [
              "array([[-16.53258291],\n",
              "       [-13.74747803],\n",
              "       [ -9.81639259],\n",
              "       [ -6.45829743],\n",
              "       [ -4.24618282],\n",
              "       [  0.17804639],\n",
              "       [  6.48797183],\n",
              "       [  7.0609621 ],\n",
              "       [  9.02650482],\n",
              "       [ 12.05818159],\n",
              "       [ 15.98926703]])"
            ]
          },
          "metadata": {},
          "execution_count": 21
        }
      ]
    },
    {
      "cell_type": "code",
      "source": [
        "pca = PCA(n_components=1)\n",
        "pca.fit(X_mean)\n",
        "X_red = pca.transform(X_mean)"
      ],
      "metadata": {
        "id": "iIPNOvdCIvOm"
      },
      "execution_count": 24,
      "outputs": []
    },
    {
      "cell_type": "code",
      "source": [
        "X_red"
      ],
      "metadata": {
        "colab": {
          "base_uri": "https://localhost:8080/"
        },
        "id": "9Oo9gmc8I7VP",
        "outputId": "81ee2edb-a808-4555-a5ec-80ee68d96fa1"
      },
      "execution_count": 25,
      "outputs": [
        {
          "output_type": "execute_result",
          "data": {
            "text/plain": [
              "array([[ 16.53258291],\n",
              "       [ 13.74747803],\n",
              "       [  9.81639259],\n",
              "       [  6.45829743],\n",
              "       [  4.24618282],\n",
              "       [ -0.17804639],\n",
              "       [ -6.48797183],\n",
              "       [ -7.0609621 ],\n",
              "       [ -9.02650482],\n",
              "       [-12.05818159],\n",
              "       [-15.98926703]])"
            ]
          },
          "metadata": {},
          "execution_count": 25
        }
      ]
    },
    {
      "cell_type": "code",
      "source": [
        ""
      ],
      "metadata": {
        "id": "xmGRvknZJB8V"
      },
      "execution_count": null,
      "outputs": []
    }
  ]
}