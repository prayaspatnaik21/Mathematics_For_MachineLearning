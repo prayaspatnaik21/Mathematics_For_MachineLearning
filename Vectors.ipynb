{
 "cells": [
  {
   "cell_type": "code",
   "execution_count": 1,
   "id": "3ed6c1ff",
   "metadata": {},
   "outputs": [],
   "source": [
    "import numpy as np\n"
   ]
  },
  {
   "cell_type": "code",
   "execution_count": 2,
   "id": "b27742d8",
   "metadata": {},
   "outputs": [],
   "source": [
    "v = np.array([1,-1,2])\n",
    "w = np.array([2,5,2])\n"
   ]
  },
  {
   "cell_type": "code",
   "execution_count": 3,
   "id": "facdc220",
   "metadata": {},
   "outputs": [
    {
     "name": "stdout",
     "output_type": "stream",
     "text": [
      "[3 4 4]\n"
     ]
    }
   ],
   "source": [
    "print(v+w)"
   ]
  },
  {
   "cell_type": "code",
   "execution_count": 4,
   "id": "8609279c",
   "metadata": {},
   "outputs": [
    {
     "name": "stdout",
     "output_type": "stream",
     "text": [
      "[-1 -6  0]\n"
     ]
    }
   ],
   "source": [
    "print(v-w)"
   ]
  },
  {
   "cell_type": "code",
   "execution_count": 5,
   "id": "d9fd918c",
   "metadata": {},
   "outputs": [
    {
     "name": "stdout",
     "output_type": "stream",
     "text": [
      "[ 6 15  6]\n"
     ]
    }
   ],
   "source": [
    "#Scalar Multiplication\n",
    "print(3*w)"
   ]
  },
  {
   "cell_type": "code",
   "execution_count": 6,
   "id": "0d96a551",
   "metadata": {},
   "outputs": [
    {
     "name": "stdout",
     "output_type": "stream",
     "text": [
      "2.449489742783178\n"
     ]
    }
   ],
   "source": [
    "#Calculating the length of the vector\n",
    "print(np.linalg.norm(v))"
   ]
  },
  {
   "cell_type": "code",
   "execution_count": null,
   "id": "671b5241",
   "metadata": {},
   "outputs": [],
   "source": [
    "s= "
   ]
  }
 ],
 "metadata": {
  "kernelspec": {
   "display_name": "Python 3 (ipykernel)",
   "language": "python",
   "name": "python3"
  },
  "language_info": {
   "codemirror_mode": {
    "name": "ipython",
    "version": 3
   },
   "file_extension": ".py",
   "mimetype": "text/x-python",
   "name": "python",
   "nbconvert_exporter": "python",
   "pygments_lexer": "ipython3",
   "version": "3.9.7"
  }
 },
 "nbformat": 4,
 "nbformat_minor": 5
}
